{
  "nbformat": 4,
  "nbformat_minor": 0,
  "metadata": {
    "colab": {
      "name": "vgg19_updated.ipynb",
      "provenance": [],
      "collapsed_sections": []
    },
    "kernelspec": {
      "name": "python3",
      "display_name": "Python 3"
    },
    "language_info": {
      "name": "python"
    },
    "accelerator": "GPU"
  },
  "cells": [
    {
      "cell_type": "code",
      "execution_count": 34,
      "metadata": {
        "id": "XL1hacBn5pJ_"
      },
      "outputs": [],
      "source": [
        "#Importing libraries\n",
        "import keras\n",
        "from keras.models import Sequential  #Sequential model means that all the layers of the model will be arranged in sequence\n",
        "from keras.layers import Dense, Conv2D, MaxPool2D , Flatten,Dropout #Importing Layers for vgg16 to be used in vgg19\n",
        "from keras.preprocessing.image import ImageDataGenerator\n",
        "import numpy as np\n",
        "from tensorflow.keras.optimizers import Adam"
      ]
    },
    {
      "cell_type": "code",
      "source": [
        "#Connecting google drive with collab\n",
        "from google.colab import drive\n",
        "drive.mount('/content/drive/')"
      ],
      "metadata": {
        "colab": {
          "base_uri": "https://localhost:8080/"
        },
        "id": "g9x5Gvo26nvK",
        "outputId": "18a232b9-9026-456b-83b9-2e236af9adb2"
      },
      "execution_count": 2,
      "outputs": [
        {
          "output_type": "stream",
          "name": "stdout",
          "text": [
            "Mounted at /content/drive/\n"
          ]
        }
      ]
    },
    {
      "cell_type": "code",
      "source": [
        "#Path of Train,testing and validation directories and saving them in variables.\n",
        "train_data_dir = r\"/content/drive/MyDrive/Colab Notebooks/2k_dataset/2k_images/processed_data/train\"   #Train Path\n",
        "valid_data_dir = r\"/content/drive/MyDrive/Colab Notebooks/2k_dataset/2k_images/processed_data/val\"     #Validation Path\n",
        "test_data_dir = r\"/content/drive/MyDrive/Colab Notebooks/2k_dataset/2k_images/processed_data/test\"     #Testing Path "
      ],
      "metadata": {
        "id": "ygH_lkoV9myf"
      },
      "execution_count": 35,
      "outputs": []
    },
    {
      "cell_type": "code",
      "source": [
        "datagen = ImageDataGenerator(rescale=1.0/255)\n",
        "datagentrain = ImageDataGenerator(rescale=1.0/255,horizontal_flip=True,rotation_range=90)\n",
        "\n",
        "train_batches = datagentrain.flow_from_directory(directory=train_data_dir, target_size=(224,224), batch_size=32,shuffle=True)   #1500 images , 1500/32 = 47(Steps per Epoch)\n",
        "valid_batches = datagen.flow_from_directory(directory=valid_data_dir, target_size=(224,224), batch_size=32)\n",
        "test_batches = datagen.flow_from_directory(directory=test_data_dir, target_size=(224,224), batch_size=1)"
      ],
      "metadata": {
        "colab": {
          "base_uri": "https://localhost:8080/"
        },
        "id": "bwcRvB4s-Hat",
        "outputId": "d450c508-4d06-4a68-ff1e-1afdc42e51a5"
      },
      "execution_count": 36,
      "outputs": [
        {
          "output_type": "stream",
          "name": "stdout",
          "text": [
            "Found 1500 images belonging to 2 classes.\n",
            "Found 200 images belonging to 2 classes.\n",
            "Found 300 images belonging to 2 classes.\n"
          ]
        }
      ]
    },
    {
      "cell_type": "code",
      "source": [
        "#---------------------------------------------------------------------------------------\n",
        "# add preprocessing layer to the front of VGG\n",
        "#include_top=False argument is to load a network that doesn't include the classification layers at the top\n",
        "#vgg = VGG16(include_top=False, weights=None, input_shape= (224,224,3))\n",
        "#---------------------------------------------------------------------------------------------------------\n",
        "\n",
        "\n",
        "#Here we are manually adding layers OR we could have used above 'commented' code for adding layers and using only 4 layers\n",
        "#Extra 19 layers have been added\n",
        "model = Sequential()   #Sequential model means that all the layers of the model will be arranged in sequence\n",
        "\n",
        "model.add(Conv2D(input_shape=(224,224,3),filters=64,kernel_size=(3,3),padding=\"same\", activation=\"relu\"))\n",
        "\n",
        "model.add(Conv2D(filters=64,kernel_size=(3,3),padding=\"same\", activation=\"relu\"))\n",
        "\n",
        "model.add(MaxPool2D(pool_size=(2,2),strides=(2,2)))\n",
        "\n",
        "model.add(Conv2D(filters=128, kernel_size=(3,3), padding=\"same\", activation=\"relu\"))\n",
        "\n",
        "model.add(Conv2D(filters=128, kernel_size=(3,3), padding=\"same\", activation=\"relu\"))\n",
        "\n",
        "model.add(MaxPool2D(pool_size=(2,2),strides=(2,2)))\n",
        "\n",
        "model.add(Conv2D(filters=256, kernel_size=(3,3), padding=\"same\", activation=\"relu\"))\n",
        "\n",
        "model.add(Conv2D(filters=256, kernel_size=(3,3), padding=\"same\", activation=\"relu\"))\n",
        "\n",
        "model.add(Conv2D(filters=256, kernel_size=(3,3), padding=\"same\", activation=\"relu\"))\n",
        "\n",
        "model.add(Conv2D(filters=256, kernel_size=(3,3), padding=\"same\", activation=\"relu\"))\n",
        "\n",
        "model.add(MaxPool2D(pool_size=(2,2),strides=(2,2)))\n",
        "\n",
        "model.add(Conv2D(filters=512, kernel_size=(3,3), padding=\"same\", activation=\"relu\"))\n",
        "\n",
        "model.add(Conv2D(filters=512, kernel_size=(3,3), padding=\"same\", activation=\"relu\"))\n",
        "\n",
        "model.add(Conv2D(filters=512, kernel_size=(3,3), padding=\"same\", activation=\"relu\"))\n",
        "\n",
        "model.add(Conv2D(filters=512, kernel_size=(3,3), padding=\"same\", activation=\"relu\"))\n",
        "\n",
        "model.add(MaxPool2D(pool_size=(2,2),strides=(2,2)))\n",
        "\n",
        "model.add(Conv2D(filters=512, kernel_size=(3,3), padding=\"same\", activation=\"relu\"))\n",
        "\n",
        "model.add(Conv2D(filters=512, kernel_size=(3,3), padding=\"same\", activation=\"relu\"))\n",
        "\n",
        "model.add(Conv2D(filters=512, kernel_size=(3,3), padding=\"same\", activation=\"relu\"))\n",
        "\n",
        "model.add(Conv2D(filters=512, kernel_size=(3,3), padding=\"same\", activation=\"relu\"))\n",
        "\n",
        "model.add(MaxPool2D(pool_size=(2,2),strides=(2,2)))\n",
        "\n",
        "model.add(Flatten())\n",
        "model.add(Dense(units=4096,activation=\"relu\"))\n",
        "model.add(Dropout(rate = 0.2))\n",
        "model.add(Dense(units=4096,activation=\"relu\"))\n",
        "model.add(Dropout(rate = 0.2))\n",
        "model.add(Dense(units=2, activation=\"softmax\")) #units = '2' because we have are working on 2 classes\n",
        "\n",
        "model.summary()"
      ],
      "metadata": {
        "colab": {
          "base_uri": "https://localhost:8080/"
        },
        "id": "jg7C4AIT_Grd",
        "outputId": "d09d21e8-95df-4fc6-b973-ce6538714a94"
      },
      "execution_count": 37,
      "outputs": [
        {
          "output_type": "stream",
          "name": "stdout",
          "text": [
            "Model: \"sequential_4\"\n",
            "_________________________________________________________________\n",
            " Layer (type)                Output Shape              Param #   \n",
            "=================================================================\n",
            " conv2d_52 (Conv2D)          (None, 224, 224, 64)      1792      \n",
            "                                                                 \n",
            " conv2d_53 (Conv2D)          (None, 224, 224, 64)      36928     \n",
            "                                                                 \n",
            " max_pooling2d_20 (MaxPoolin  (None, 112, 112, 64)     0         \n",
            " g2D)                                                            \n",
            "                                                                 \n",
            " conv2d_54 (Conv2D)          (None, 112, 112, 128)     73856     \n",
            "                                                                 \n",
            " conv2d_55 (Conv2D)          (None, 112, 112, 128)     147584    \n",
            "                                                                 \n",
            " max_pooling2d_21 (MaxPoolin  (None, 56, 56, 128)      0         \n",
            " g2D)                                                            \n",
            "                                                                 \n",
            " conv2d_56 (Conv2D)          (None, 56, 56, 256)       295168    \n",
            "                                                                 \n",
            " conv2d_57 (Conv2D)          (None, 56, 56, 256)       590080    \n",
            "                                                                 \n",
            " conv2d_58 (Conv2D)          (None, 56, 56, 256)       590080    \n",
            "                                                                 \n",
            " conv2d_59 (Conv2D)          (None, 56, 56, 256)       590080    \n",
            "                                                                 \n",
            " max_pooling2d_22 (MaxPoolin  (None, 28, 28, 256)      0         \n",
            " g2D)                                                            \n",
            "                                                                 \n",
            " conv2d_60 (Conv2D)          (None, 28, 28, 512)       1180160   \n",
            "                                                                 \n",
            " conv2d_61 (Conv2D)          (None, 28, 28, 512)       2359808   \n",
            "                                                                 \n",
            " conv2d_62 (Conv2D)          (None, 28, 28, 512)       2359808   \n",
            "                                                                 \n",
            " conv2d_63 (Conv2D)          (None, 28, 28, 512)       2359808   \n",
            "                                                                 \n",
            " max_pooling2d_23 (MaxPoolin  (None, 14, 14, 512)      0         \n",
            " g2D)                                                            \n",
            "                                                                 \n",
            " conv2d_64 (Conv2D)          (None, 14, 14, 512)       2359808   \n",
            "                                                                 \n",
            " conv2d_65 (Conv2D)          (None, 14, 14, 512)       2359808   \n",
            "                                                                 \n",
            " conv2d_66 (Conv2D)          (None, 14, 14, 512)       2359808   \n",
            "                                                                 \n",
            " conv2d_67 (Conv2D)          (None, 14, 14, 512)       2359808   \n",
            "                                                                 \n",
            " max_pooling2d_24 (MaxPoolin  (None, 7, 7, 512)        0         \n",
            " g2D)                                                            \n",
            "                                                                 \n",
            " flatten_4 (Flatten)         (None, 25088)             0         \n",
            "                                                                 \n",
            " dense_12 (Dense)            (None, 4096)              102764544 \n",
            "                                                                 \n",
            " dropout (Dropout)           (None, 4096)              0         \n",
            "                                                                 \n",
            " dense_13 (Dense)            (None, 4096)              16781312  \n",
            "                                                                 \n",
            " dropout_1 (Dropout)         (None, 4096)              0         \n",
            "                                                                 \n",
            " dense_14 (Dense)            (None, 2)                 8194      \n",
            "                                                                 \n",
            "=================================================================\n",
            "Total params: 139,578,434\n",
            "Trainable params: 139,578,434\n",
            "Non-trainable params: 0\n",
            "_________________________________________________________________\n"
          ]
        }
      ]
    },
    {
      "cell_type": "code",
      "source": [
        "# tell the model what cost and optimization method to use\n",
        "model.compile(optimizer=Adam(learning_rate=1e-5),loss=\"binary_crossentropy\",metrics=[\"accuracy\"])"
      ],
      "metadata": {
        "id": "jmoPNOCDDBUo"
      },
      "execution_count": 38,
      "outputs": []
    },
    {
      "cell_type": "code",
      "source": [
        "history=model.fit_generator(generator=train_batches,validation_data=test_batches,validation_steps=len(test_batches),steps_per_epoch=47,epochs=25,verbose=1)"
      ],
      "metadata": {
        "colab": {
          "base_uri": "https://localhost:8080/"
        },
        "id": "0iwzG1tKDLz_",
        "outputId": "416a8367-1e40-4ac2-d793-c03c1333b569"
      },
      "execution_count": 39,
      "outputs": [
        {
          "output_type": "stream",
          "name": "stderr",
          "text": [
            "/usr/local/lib/python3.7/dist-packages/ipykernel_launcher.py:1: UserWarning: `Model.fit_generator` is deprecated and will be removed in a future version. Please use `Model.fit`, which supports generators.\n",
            "  \"\"\"Entry point for launching an IPython kernel.\n"
          ]
        },
        {
          "output_type": "stream",
          "name": "stdout",
          "text": [
            "Epoch 1/25\n",
            "47/47 [==============================] - 64s 1s/step - loss: 0.6930 - accuracy: 0.5107 - val_loss: 0.6925 - val_accuracy: 0.5000\n",
            "Epoch 2/25\n",
            "47/47 [==============================] - 62s 1s/step - loss: 0.6873 - accuracy: 0.5300 - val_loss: 0.6863 - val_accuracy: 0.5533\n",
            "Epoch 3/25\n",
            "47/47 [==============================] - 62s 1s/step - loss: 0.6289 - accuracy: 0.6340 - val_loss: 0.6363 - val_accuracy: 0.6167\n",
            "Epoch 4/25\n",
            "47/47 [==============================] - 62s 1s/step - loss: 0.5915 - accuracy: 0.6827 - val_loss: 0.5743 - val_accuracy: 0.7000\n",
            "Epoch 5/25\n",
            "47/47 [==============================] - 62s 1s/step - loss: 0.5747 - accuracy: 0.6947 - val_loss: 0.5641 - val_accuracy: 0.7133\n",
            "Epoch 6/25\n",
            "47/47 [==============================] - 62s 1s/step - loss: 0.5489 - accuracy: 0.7187 - val_loss: 0.5444 - val_accuracy: 0.7300\n",
            "Epoch 7/25\n",
            "47/47 [==============================] - 62s 1s/step - loss: 0.5276 - accuracy: 0.7293 - val_loss: 0.5847 - val_accuracy: 0.6733\n",
            "Epoch 8/25\n",
            "47/47 [==============================] - 62s 1s/step - loss: 0.5310 - accuracy: 0.7253 - val_loss: 0.5247 - val_accuracy: 0.7300\n",
            "Epoch 9/25\n",
            "47/47 [==============================] - 62s 1s/step - loss: 0.5222 - accuracy: 0.7227 - val_loss: 0.5412 - val_accuracy: 0.6933\n",
            "Epoch 10/25\n",
            "47/47 [==============================] - 62s 1s/step - loss: 0.5087 - accuracy: 0.7320 - val_loss: 0.5116 - val_accuracy: 0.7267\n",
            "Epoch 11/25\n",
            "47/47 [==============================] - 62s 1s/step - loss: 0.4981 - accuracy: 0.7393 - val_loss: 0.5148 - val_accuracy: 0.7333\n",
            "Epoch 12/25\n",
            "47/47 [==============================] - 62s 1s/step - loss: 0.5027 - accuracy: 0.7300 - val_loss: 0.6566 - val_accuracy: 0.6167\n",
            "Epoch 13/25\n",
            "47/47 [==============================] - 62s 1s/step - loss: 0.5356 - accuracy: 0.7073 - val_loss: 0.5125 - val_accuracy: 0.7333\n",
            "Epoch 14/25\n",
            "47/47 [==============================] - 62s 1s/step - loss: 0.4910 - accuracy: 0.7367 - val_loss: 0.5353 - val_accuracy: 0.7233\n",
            "Epoch 15/25\n",
            "47/47 [==============================] - 62s 1s/step - loss: 0.5016 - accuracy: 0.7353 - val_loss: 0.5282 - val_accuracy: 0.7200\n",
            "Epoch 16/25\n",
            "47/47 [==============================] - 62s 1s/step - loss: 0.4976 - accuracy: 0.7433 - val_loss: 0.4885 - val_accuracy: 0.7400\n",
            "Epoch 17/25\n",
            "47/47 [==============================] - 62s 1s/step - loss: 0.4800 - accuracy: 0.7393 - val_loss: 0.4849 - val_accuracy: 0.7433\n",
            "Epoch 18/25\n",
            "47/47 [==============================] - 62s 1s/step - loss: 0.4965 - accuracy: 0.7347 - val_loss: 0.5428 - val_accuracy: 0.7233\n",
            "Epoch 19/25\n",
            "47/47 [==============================] - 62s 1s/step - loss: 0.4840 - accuracy: 0.7547 - val_loss: 0.5240 - val_accuracy: 0.7133\n",
            "Epoch 20/25\n",
            "47/47 [==============================] - 62s 1s/step - loss: 0.4526 - accuracy: 0.7787 - val_loss: 0.3829 - val_accuracy: 0.8433\n",
            "Epoch 21/25\n",
            "47/47 [==============================] - 62s 1s/step - loss: 0.3929 - accuracy: 0.8573 - val_loss: 0.3781 - val_accuracy: 0.8600\n",
            "Epoch 22/25\n",
            "47/47 [==============================] - 62s 1s/step - loss: 0.3590 - accuracy: 0.8713 - val_loss: 0.4703 - val_accuracy: 0.8533\n",
            "Epoch 23/25\n",
            "47/47 [==============================] - 62s 1s/step - loss: 0.3015 - accuracy: 0.8853 - val_loss: 0.2984 - val_accuracy: 0.8900\n",
            "Epoch 24/25\n",
            "47/47 [==============================] - 62s 1s/step - loss: 0.2117 - accuracy: 0.9353 - val_loss: 0.2298 - val_accuracy: 0.9433\n",
            "Epoch 25/25\n",
            "47/47 [==============================] - 62s 1s/step - loss: 0.1561 - accuracy: 0.9507 - val_loss: 0.2166 - val_accuracy: 0.9500\n"
          ]
        }
      ]
    },
    {
      "cell_type": "code",
      "source": [
        "from tensorflow.keras.models import load_model\n",
        "#new_model = load_model('/content/drive/MyDrive/Colab Notebooks/2k_dataset/vgg16_224x224.h5') \n",
        "model.save(\"/content/drive/MyDrive/Colab Notebooks/2k_dataset/vgg19_updated_224_manual_wali.h5\")"
      ],
      "metadata": {
        "id": "PB9og0pgEZlv"
      },
      "execution_count": 40,
      "outputs": []
    },
    {
      "cell_type": "code",
      "source": [
        "test_loss, test_acc = model.evaluate(test_batches, verbose=1)\n",
        "print(\"\\nTest accuracy:\", test_acc)"
      ],
      "metadata": {
        "colab": {
          "base_uri": "https://localhost:8080/"
        },
        "id": "O0vLMlFFqras",
        "outputId": "c176c0e9-c315-44f7-9a85-c2e111e2871d"
      },
      "execution_count": 41,
      "outputs": [
        {
          "output_type": "stream",
          "name": "stdout",
          "text": [
            "300/300 [==============================] - 15s 48ms/step - loss: 0.2166 - accuracy: 0.9500\n",
            "\n",
            "Test accuracy: 0.949999988079071\n"
          ]
        }
      ]
    },
    {
      "cell_type": "code",
      "source": [
        "import matplotlib.pyplot as plt\n",
        "plt.plot(history.history[\"accuracy\"])\n",
        "plt.plot(history.history['val_accuracy'])\n",
        "plt.plot(history.history['loss'])\n",
        "plt.plot(history.history['val_loss'])\n",
        "plt.title(\"model accuracy\")\n",
        "plt.ylabel(\"Accuracy\")\n",
        "plt.xlabel(\"Epoch\")\n",
        "plt.legend([\"Accuracy\",\"Validation Accuracy\",\"Loss\",\"Validation Loss\"])\n",
        "plt.show()"
      ],
      "metadata": {
        "colab": {
          "base_uri": "https://localhost:8080/",
          "height": 295
        },
        "id": "K6U-vilgq3F3",
        "outputId": "036c793b-6fd5-4b74-8cc9-8850a7f06853"
      },
      "execution_count": 42,
      "outputs": [
        {
          "output_type": "display_data",
          "data": {
            "text/plain": [
              "<Figure size 432x288 with 1 Axes>"
            ],
            "image/png": "[encoded data removed]"
          },
          "metadata": {
            "needs_background": "light"
          }
        }
      ]
    },
    {
      "cell_type": "code",
      "source": [
        "import pandas as pd\n",
        "import seaborn as sns\n",
        "import tensorflow as tf\n",
        "import matplotlib.pyplot as plt\n",
        "\n",
        "model = tf.keras.models.load_model(\"/content/drive/MyDrive/Colab Notebooks/2k_dataset/vgg19_updated_224_manual_wali.h5\")\n",
        "filenames = test_batches.filenames\n",
        "nb_samples = len(test_batches)\n",
        "y_prob=[]\n",
        "y_act=[]\n",
        "test_batches.reset()\n",
        "for _ in range(nb_samples):\n",
        "    X_test, Y_test = test_batches.next()\n",
        "    y_prob.append(model.predict(X_test))\n",
        "    y_act.append(Y_test)\n",
        "\n",
        "predicted_class = [list(train_batches.class_indices.keys())[i.argmax()] for i in y_prob]\n",
        "actual_class = [list(train_batches.class_indices.keys())[i.argmax()] for i in y_act]\n",
        "\n",
        "out_df = pd.DataFrame(np.vstack([predicted_class,actual_class]).T,columns=['predicted_class','actual_class'])\n",
        "confusion_matrix = pd.crosstab(out_df['actual_class'],out_df['predicted_class'], rownames=['Actual'], colnames=['Predicted'])\n",
        "\n",
        "sns.heatmap(confusion_matrix,cmap='Blues', annot=True, fmt='d')\n",
        "plt.show()\n",
        "print(\"test accuracy : {} \".format((np.diagonal(confusion_matrix).sum()/confusion_matrix.sum().sum()*100)))"
      ],
      "metadata": {
        "colab": {
          "base_uri": "https://localhost:8080/",
          "height": 296
        },
        "id": "DloXdcJdq7eO",
        "outputId": "494d7fa9-3069-4a31-b8bd-57437e9d9d30"
      },
      "execution_count": 44,
      "outputs": [
        {
          "output_type": "display_data",
          "data": {
            "text/plain": [
              "<Figure size 432x288 with 2 Axes>"
            ],
            "image/png": "[encoded data removed]"
          },
          "metadata": {
            "needs_background": "light"
          }
        },
        {
          "output_type": "stream",
          "name": "stdout",
          "text": [
            "test accuracy : 95.0 \n"
          ]
        }
      ]
    },
    {
      "cell_type": "code",
      "source": [
        "from sklearn.metrics import classification_report\n",
        "print(classification_report(actual_class, predicted_class))"
      ],
      "metadata": {
        "colab": {
          "base_uri": "https://localhost:8080/"
        },
        "id": "xaIHwpZ4rOyb",
        "outputId": "d4bc2705-59d4-46fd-c9fb-77728aa72b02"
      },
      "execution_count": 45,
      "outputs": [
        {
          "output_type": "stream",
          "name": "stdout",
          "text": [
            "              precision    recall  f1-score   support\n",
            "\n",
            "    infected       0.98      0.92      0.95       150\n",
            "  uninfected       0.92      0.98      0.95       150\n",
            "\n",
            "    accuracy                           0.95       300\n",
            "   macro avg       0.95      0.95      0.95       300\n",
            "weighted avg       0.95      0.95      0.95       300\n",
            "\n"
          ]
        }
      ]
    }
  ]
}